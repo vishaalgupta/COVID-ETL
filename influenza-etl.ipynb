{
 "cells": [
  {
   "cell_type": "code",
   "execution_count": null,
   "id": "357946b9",
   "metadata": {},
   "outputs": [],
   "source": [
    "import matplotlib.pyplot as plt\n",
    "import pandas as pd\n",
    "from scipy.stats import linregress\n",
    "import seaborn as sns\n",
    "import numpy as np\n",
    "from scipy.stats import sem\n",
    "import pandas as pd\n",
    "from sqlalchemy import create_engine"
   ]
  },
  {
   "cell_type": "code",
   "execution_count": null,
   "id": "c6c4bf29",
   "metadata": {},
   "outputs": [],
   "source": [
    "#This is the full data frame with some extra columns removed\n",
    "health_df = pd.read_csv(\"Resources/Provisional_COVID-19_Deaths_by_Sex_and_Age.csv\")\n",
    "health_df = health_df.drop(columns = [\"Data As Of\", \"Start Date\", \"End Date\", \"Footnote\"])\n",
    "health_df.head()"
   ]
  },
  {
   "cell_type": "code",
   "execution_count": null,
   "id": "9f44a119",
   "metadata": {},
   "outputs": [],
   "source": [
    "#I have removed some random age groups\n",
    "age_adjusted_df = health_df.loc[(health_df[\"Age Group\"] != \"40-49 years\") &\n",
    "                                (health_df[\"Age Group\"] != \"30-39 years\") &\n",
    "                                (health_df[\"Age Group\"] != \"18-29 years\") &\n",
    "                                (health_df[\"Age Group\"] != \"0-17 years\") &\n",
    "                                (health_df[\"Age Group\"] != \"50-64 years\"), :]"
   ]
  },
  {
   "cell_type": "code",
   "execution_count": null,
   "id": "ca216d70",
   "metadata": {},
   "outputs": [],
   "source": [
    "year_df = age_adjusted_df.loc[health_df[\"Group\"] == \"By Year\", :]\n",
    "year_df = year_df.drop(columns = [\"Month\", \"Group\"])\n",
    "year_df = year_df.replace(\"New York City\", \"New York\")\n",
    "year_df = year_df.rename(columns= {'State' : 'state', 'Year' : 'year' })\n",
    "year_df.head()"
   ]
  },
  {
   "cell_type": "code",
   "execution_count": null,
   "id": "adee2204",
   "metadata": {},
   "outputs": [],
   "source": [
    "year_states_df = year_df.loc[((health_df[\"Year\"] == 2021.0) & (health_df[\"State\"] != \"United States\")), :]\n",
    "#year_states_df = year_states_df.drop(columns = [\"Sex\", \"Age Group\", \"Total Deaths\", \"Pneumonia Deaths\", \n",
    "                                               # \"Pneumonia and COVID-19 Deaths\", \"Influenza Deaths\", \n",
    "                                                #\"Pneumonia, Influenza, or COVID-19 Deaths\"])\n",
    "year_states_df = year_states_df.groupby([\"state\", \"year\"])['Influenza Deaths'].sum()\n",
    "all_states_df = pd.DataFrame(year_states_df)\n",
    "all_states_df = all_states_df.rename(columns= {'Influenza Deaths' : 'flu_deaths'})\n",
    "\n",
    "#all_states_df[\"Year\"] = all_states_df[\"Year\"].astype(str)\n",
    "all_states_df.head()"
   ]
  },
  {
   "cell_type": "code",
   "execution_count": null,
   "id": "7f3fb7ad",
   "metadata": {},
   "outputs": [],
   "source": [
    "states_df = pd.read_csv(\"Resources/us-states.csv\")\n",
    "#ohio_df = pd.Series(states_df.values.flatten())\n",
    "states_df[\"date\"] = states_df[\"date\"].astype(str).str.slice(stop=4)\n",
    "cases_df = states_df.loc[(states_df[\"date\"] == \"2021\"), :]\n",
    "cases_df = cases_df.groupby([\"state\", \"date\"])[\"cases\", \"deaths\"].sum()\n",
    "#str.slice(stop=2)\n",
    "cases_df.head()"
   ]
  },
  {
   "cell_type": "code",
   "execution_count": null,
   "id": "3caf8305",
   "metadata": {},
   "outputs": [],
   "source": [
    "connection_string = \"postgres:postgres@localhost:5432/covid_db\"\n",
    "engine = create_engine(f'postgresql://{connection_string}')"
   ]
  },
  {
   "cell_type": "code",
   "execution_count": null,
   "id": "3eeb3853",
   "metadata": {
    "scrolled": true
   },
   "outputs": [],
   "source": [
    "engine.table_names()"
   ]
  },
  {
   "cell_type": "code",
   "execution_count": null,
   "id": "3624911b",
   "metadata": {
    "scrolled": false
   },
   "outputs": [],
   "source": [
    "cases_df.to_sql(name='cases', con=engine, if_exists='append', index=True)"
   ]
  },
  {
   "cell_type": "code",
   "execution_count": null,
   "id": "e031dac7",
   "metadata": {},
   "outputs": [],
   "source": [
    "all_states_df.to_sql(name='flu_deaths', con=engine, if_exists='append', index=True)"
   ]
  }
 ],
 "metadata": {
  "kernelspec": {
   "display_name": "Python 3 (ipykernel)",
   "language": "python",
   "name": "python3"
  },
  "language_info": {
   "codemirror_mode": {
    "name": "ipython",
    "version": 3
   },
   "file_extension": ".py",
   "mimetype": "text/x-python",
   "name": "python",
   "nbconvert_exporter": "python",
   "pygments_lexer": "ipython3",
   "version": "3.9.7"
  }
 },
 "nbformat": 4,
 "nbformat_minor": 5
}
